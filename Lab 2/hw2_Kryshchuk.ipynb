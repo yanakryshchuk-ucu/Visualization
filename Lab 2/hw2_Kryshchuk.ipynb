{
 "cells": [
  {
   "cell_type": "code",
   "execution_count": null,
   "metadata": {},
   "outputs": [],
   "source": [
    "import pandas as pd\n",
    "import altair as alt"
   ]
  },
  {
   "cell_type": "markdown",
   "metadata": {},
   "source": [
    "### Let's prepare the data"
   ]
  },
  {
   "cell_type": "code",
   "execution_count": null,
   "metadata": {},
   "outputs": [],
   "source": [
    "df = pd.read_excel(\n",
    "     \"2014-2020.xlsx\",\n",
    "     engine='openpyxl')\n",
    "df.head()"
   ]
  },
  {
   "cell_type": "code",
   "execution_count": null,
   "metadata": {},
   "outputs": [],
   "source": [
    "df.columns = [\"date\", \"aes\", \"tec\", \"vde\", \"tes\", \"ges\", \"gaes\",\n",
    "              \"consumption\", \"pump\", \"UK_BLR_RUS\", \"UK_EURO\", \"UK_MLD\",\n",
    "             \"d1\", \"d2\"]\n",
    "\n",
    "df.drop(['pump', 'd1', 'd2'], axis = 1, inplace = True)"
   ]
  },
  {
   "cell_type": "code",
   "execution_count": null,
   "metadata": {},
   "outputs": [],
   "source": [
    "df.head()"
   ]
  },
  {
   "cell_type": "code",
   "execution_count": null,
   "metadata": {},
   "outputs": [],
   "source": [
    "df.describe()"
   ]
  },
  {
   "cell_type": "code",
   "execution_count": null,
   "metadata": {},
   "outputs": [],
   "source": [
    "alt.data_transformers.disable_max_rows()"
   ]
  },
  {
   "cell_type": "markdown",
   "metadata": {},
   "source": [
    "## Task 1\n",
    "### How has the structure of electricity generation changed over the years?\n"
   ]
  },
  {
   "cell_type": "code",
   "execution_count": null,
   "metadata": {},
   "outputs": [],
   "source": [
    "over_year = df.drop([\"consumption\", \"UK_BLR_RUS\", \"UK_EURO\", \"UK_MLD\"], axis = 1)\n",
    "over_year.head()"
   ]
  },
  {
   "cell_type": "code",
   "execution_count": null,
   "metadata": {},
   "outputs": [],
   "source": [
    "over_year = over_year.melt(id_vars=['date'],\n",
    "                           var_name='source',\n",
    "                           value_name='production')\n",
    "over_year"
   ]
  },
  {
   "cell_type": "code",
   "execution_count": null,
   "metadata": {},
   "outputs": [],
   "source": [
    "over_year[\"date\"] = [int(entry.split(\".\")[-1]) for entry in over_year[\"date\"]]\n",
    "\n",
    "aggregation_functions = {'production': 'sum'}\n",
    "over_year = over_year.groupby([\"date\", \"source\"], as_index=False).aggregate(aggregation_functions)\n",
    "over_year.head()"
   ]
  },
  {
   "cell_type": "code",
   "execution_count": null,
   "metadata": {},
   "outputs": [],
   "source": [
    "over_year.shape"
   ]
  },
  {
   "cell_type": "code",
   "execution_count": null,
   "metadata": {},
   "outputs": [],
   "source": [
    "alt.Chart(over_year).mark_area().encode(\n",
    "    x = alt.X('date:Q'),\n",
    "    y = alt.Y('production:Q', aggregate = 'sum', stack = 'normalize'),\n",
    "    color = alt.Color('source:N'),\n",
    "    order = alt.Order('production:Q', aggregate='sum', sort = 'ascending')\n",
    ").properties(background = '#F9F9F9', padding = 25)"
   ]
  },
  {
   "cell_type": "markdown",
   "metadata": {},
   "source": [
    "### Additional data processing\n"
   ]
  },
  {
   "cell_type": "code",
   "execution_count": null,
   "metadata": {},
   "outputs": [],
   "source": [
    "df.head()"
   ]
  },
  {
   "cell_type": "code",
   "execution_count": null,
   "metadata": {},
   "outputs": [],
   "source": [
    "def p(e: str) -> str:\n",
    "    h, d = e.split(\"-\")\n",
    "    h = int(h) - 1\n",
    "    return f\"{h}-{d}\"\n",
    "\n",
    "df[\"date\"] = [p(e) for e in df[\"date\"]]\n",
    "df[\"date\"] = pd.to_datetime(df[\"date\"], format = '%H-%d.%m.%Y')\n",
    "df.head()"
   ]
  },
  {
   "cell_type": "markdown",
   "metadata": {},
   "source": [
    "\n",
    "## Task 2\n",
    "### How does electricity consumption depend on the day of the year and the time of day?"
   ]
  },
  {
   "cell_type": "code",
   "execution_count": null,
   "metadata": {},
   "outputs": [],
   "source": [
    "alt.Chart(df).mark_rect().encode(\n",
    "    x='hours(date):O',\n",
    "    y='day(date):O',\n",
    "    color=alt.Color('mean(consumption):Q', scale = alt.Scale(scheme = 'orangered'))\n",
    ").properties(width=200, height=150)"
   ]
  },
  {
   "cell_type": "markdown",
   "metadata": {},
   "source": [
    "\n",
    "## Task 3\n",
    "### How does the generation of electricity from different sources change during the day?\n",
    "Note that motivation behind code repetition is the worries that initial data frame would become too big to use it conveniently if we apply melt on it."
   ]
  },
  {
   "cell_type": "code",
   "execution_count": null,
   "metadata": {},
   "outputs": [],
   "source": [
    "tmp = df.drop([\"consumption\", \"UK_BLR_RUS\", \"UK_EURO\", \"UK_MLD\"], axis = 1)\n",
    "tmp = tmp.melt(id_vars=['date'],\n",
    "                           var_name='source',\n",
    "                           value_name='production')\n",
    "print(tmp.shape)\n",
    "tmp.head()"
   ]
  },
  {
   "cell_type": "code",
   "execution_count": null,
   "metadata": {},
   "outputs": [],
   "source": [
    "alt.Chart(tmp).mark_line().encode(\n",
    "    x='hours(date):O',\n",
    "    y = alt.Y('mean(production):Q'),\n",
    "    color = alt.Color('source:N'),\n",
    ").properties(width=200, height=150)"
   ]
  },
  {
   "cell_type": "markdown",
   "metadata": {},
   "source": [
    "## Task 4\n",
    "### How does electricity consumption change during the day in terms of months of the year and seasons?"
   ]
  },
  {
   "cell_type": "code",
   "execution_count": null,
   "metadata": {},
   "outputs": [],
   "source": [
    "alt.Chart(df).mark_rect().encode(\n",
    "    x='date(date):O',\n",
    "    y='consumption:Q',\n",
    "    color=alt.Color('mean(consumption):Q', scale = alt.Scale(scheme = 'orangered')),\n",
    "    column=alt.Column('quarter(date):N')\n",
    ").properties(width=200, height=150)"
   ]
  },
  {
   "cell_type": "markdown",
   "metadata": {},
   "source": [
    "## Task 5\n",
    "### How does electricity consumption change during the week?"
   ]
  },
  {
   "cell_type": "code",
   "execution_count": null,
   "metadata": {},
   "outputs": [],
   "source": [
    "alt.Chart(df).mark_bar().encode(\n",
    "    x='day(date):O',\n",
    "    y=alt.Y('mean(consumption):Q'),\n",
    "    color=alt.Color('mean(consumption):O', scale=alt.Scale(scheme='orangered'))\n",
    ").properties(width=200, height=150)"
   ]
  },
  {
   "cell_type": "code",
   "execution_count": null,
   "metadata": {},
   "outputs": [],
   "source": []
  }
 ],
 "metadata": {
  "kernelspec": {
   "display_name": "Python 3",
   "language": "python",
   "name": "python3"
  },
  "language_info": {
   "codemirror_mode": {
    "name": "ipython",
    "version": 3
   },
   "file_extension": ".py",
   "mimetype": "text/x-python",
   "name": "python",
   "nbconvert_exporter": "python",
   "pygments_lexer": "ipython3",
   "version": "3.8.10"
  }
 },
 "nbformat": 4,
 "nbformat_minor": 4
}
